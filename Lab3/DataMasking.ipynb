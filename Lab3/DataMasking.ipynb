{
  "nbformat": 4,
  "nbformat_minor": 0,
  "metadata": {
    "colab": {
      "name": "DataMasking.ipynb",
      "provenance": [],
      "authorship_tag": "ABX9TyMBehdAYR0q9eczgmcSQ4dv",
      "include_colab_link": true
    },
    "kernelspec": {
      "name": "python3",
      "display_name": "Python 3"
    },
    "language_info": {
      "name": "python"
    }
  },
  "cells": [
    {
      "cell_type": "markdown",
      "metadata": {
        "id": "view-in-github",
        "colab_type": "text"
      },
      "source": [
        "<a href=\"https://colab.research.google.com/github/al34n1x/database_sec/blob/main/Lab1/DataMasking.ipynb\" target=\"_parent\"><img src=\"https://colab.research.google.com/assets/colab-badge.svg\" alt=\"Open In Colab\"/></a>"
      ]
    },
    {
      "cell_type": "markdown",
      "metadata": {
        "id": "104qJMMSqU1t"
      },
      "source": [
        "# Data Masking\n",
        "\n",
        "Data masking hides sensitive data by replacing it, or a part of it, with fake data. The idea is to maintain the structure of actual data without providing sensitive data.\n",
        "\n",
        "For example, many applications store users’ contact numbers. If the user forgets their password to log in, the application will send a one-time password (OTP) to the user’s phone, and the user can then reset their password. To get an OTP, the user provides their username or email address and verifies the number to which the OTP will be sent. But here’s the problem: If user Tony has forgotten his password, he would provide his email address, confirm the phone number, and get OTP. But what if some other user, say Steve, knew Tony’s email address? If Steve used the forgot password option and entered Tony’s email address, then when the app tries to confirm Tony’s phone number, Steve would see the number.\n",
        "\n",
        "This is a privacy breach. To avoid such situations, we can show a part of the actual data. If the phone number has 10 digits, we can display the last 3 digits and mask the first 7: XXXXXXX452. This way, Tony can verify his phone number, but Steve can’t get it.\n",
        "\n"
      ]
    },
    {
      "cell_type": "markdown",
      "metadata": {
        "id": "p0yqRf8Rqdsm"
      },
      "source": [
        "## When Do We Use Data Masking?\n",
        "We use data masking in two main cases: testing and production."
      ]
    },
    {
      "cell_type": "markdown",
      "metadata": {
        "id": "iVUHzqbjqhpY"
      },
      "source": [
        "## Data Masking Examples\n",
        "First, here’s a simple Python example to demonstrate how data masking works and how to implement it in a database.\n",
        "\n",
        "Here’s the Python code:"
      ]
    },
    {
      "cell_type": "code",
      "metadata": {
        "id": "BeoysnpUqUex"
      },
      "source": [
        "users = [{'Name':'Tony', 'Country': 'France', 'Card Number':'3542-7583-7228-3788'},\n",
        "{'Name':'Steve','Country':'Austria', 'Card Number':'3881-8829-5554-4875'},\n",
        "{'Name':'Peter', 'Country':'Spain', 'Card Number':'8445-5556-9621-9962'}]\n",
        "\n",
        "\n",
        "print(\"Name\\t\\tCountry\\t\\tCard Number\")\n",
        "for user in users:\n",
        "    print (user['Name']+\"\\t\\t\"+user['Country']+\"\\t\\t\"+user['Card Number'])"
      ],
      "execution_count": null,
      "outputs": []
    },
    {
      "cell_type": "markdown",
      "metadata": {
        "id": "JkqzYrHrq1s9"
      },
      "source": [
        "## Masking data\n",
        "Now let's iterate across the array's values and make a few changes to mask de data."
      ]
    },
    {
      "cell_type": "code",
      "metadata": {
        "id": "cC-PwwahqJ7P"
      },
      "source": [
        "for user in users:\n",
        "    card_number = 'XXXXXXXXXXXXXX'+user['Card Number'][-4:]\n",
        "    print (user['Name']+\"\\t\\t\"+user['Country']+\"\\t\\t\"+card_number)"
      ],
      "execution_count": null,
      "outputs": []
    }
  ]
}